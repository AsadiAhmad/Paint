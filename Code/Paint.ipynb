{
  "cells": [
    {
      "cell_type": "markdown",
      "id": "J0aZviWCUFSC",
      "metadata": {
        "id": "J0aZviWCUFSC"
      },
      "source": [
        "# Step 1: Import Libraries"
      ]
    },
    {
      "cell_type": "code",
      "execution_count": 1,
      "id": "ZjEXNLl9T-vK",
      "metadata": {
        "id": "ZjEXNLl9T-vK"
      },
      "outputs": [],
      "source": [
        "import cv2\n",
        "import numpy as np\n",
        "import matplotlib.pyplot as plt"
      ]
    },
    {
      "cell_type": "markdown",
      "id": "n8pZE5H9UKOs",
      "metadata": {
        "id": "n8pZE5H9UKOs"
      },
      "source": [
        "# Step 2: Implement Drawing Function"
      ]
    },
    {
      "cell_type": "code",
      "execution_count": 5,
      "id": "dfc7bf89",
      "metadata": {},
      "outputs": [],
      "source": [
        "def nothing(x):\n",
        "    pass"
      ]
    },
    {
      "cell_type": "code",
      "execution_count": 6,
      "id": "361f3aab",
      "metadata": {},
      "outputs": [],
      "source": [
        "def draw(event, x, y, flags, params):\n",
        "    global ix, iy, drawing, color, image, brush_size, lines\n",
        "\n",
        "    if event == cv2.EVENT_LBUTTONDOWN:\n",
        "        drawing = True\n",
        "        ix, iy = x, y\n",
        "        lines.append([])\n",
        "        \n",
        "    if event == cv2.EVENT_MOUSEMOVE:\n",
        "        if drawing:\n",
        "            cv2.line(image, (ix, iy), (x, y), color, thickness=brush_size)\n",
        "            lines[-1].append(((ix, iy), (x, y), color, brush_size))\n",
        "            ix, iy = x, y\n",
        "            \n",
        "    if event == cv2.EVENT_LBUTTONUP:\n",
        "        drawing = False\n",
        "        cv2.line(image, (ix, iy), (x, y), color, thickness=brush_size)\n",
        "        lines[-1].append(((ix, iy), (x, y), color, brush_size))"
      ]
    },
    {
      "cell_type": "code",
      "execution_count": 7,
      "id": "999f008d",
      "metadata": {},
      "outputs": [
        {
          "ename": "error",
          "evalue": "OpenCV(4.9.0) D:\\a\\opencv-python\\opencv-python\\opencv\\modules\\highgui\\src\\window_w32.cpp:2561: error: (-27:Null pointer) NULL window: 'Paint' in function 'cvGetTrackbarPos'\n",
          "output_type": "error",
          "traceback": [
            "\u001b[1;31m---------------------------------------------------------------------------\u001b[0m",
            "\u001b[1;31merror\u001b[0m                                     Traceback (most recent call last)",
            "Cell \u001b[1;32mIn[7], line 21\u001b[0m\n\u001b[0;32m     18\u001b[0m cv2\u001b[38;5;241m.\u001b[39msetMouseCallback(\u001b[38;5;124m\"\u001b[39m\u001b[38;5;124mPaint\u001b[39m\u001b[38;5;124m\"\u001b[39m,draw)\n\u001b[0;32m     20\u001b[0m \u001b[38;5;28;01mwhile\u001b[39;00m \u001b[38;5;28;01mTrue\u001b[39;00m:\n\u001b[1;32m---> 21\u001b[0m     red \u001b[38;5;241m=\u001b[39m \u001b[43mcv2\u001b[49m\u001b[38;5;241;43m.\u001b[39;49m\u001b[43mgetTrackbarPos\u001b[49m\u001b[43m(\u001b[49m\u001b[38;5;124;43m'\u001b[39;49m\u001b[38;5;124;43mR\u001b[39;49m\u001b[38;5;124;43m'\u001b[39;49m\u001b[43m,\u001b[49m\u001b[43m \u001b[49m\u001b[38;5;124;43m'\u001b[39;49m\u001b[38;5;124;43mPaint\u001b[39;49m\u001b[38;5;124;43m'\u001b[39;49m\u001b[43m)\u001b[49m\n\u001b[0;32m     22\u001b[0m     green \u001b[38;5;241m=\u001b[39m cv2\u001b[38;5;241m.\u001b[39mgetTrackbarPos(\u001b[38;5;124m'\u001b[39m\u001b[38;5;124mG\u001b[39m\u001b[38;5;124m'\u001b[39m, \u001b[38;5;124m'\u001b[39m\u001b[38;5;124mPaint\u001b[39m\u001b[38;5;124m'\u001b[39m)\n\u001b[0;32m     23\u001b[0m     blue \u001b[38;5;241m=\u001b[39m cv2\u001b[38;5;241m.\u001b[39mgetTrackbarPos(\u001b[38;5;124m'\u001b[39m\u001b[38;5;124mB\u001b[39m\u001b[38;5;124m'\u001b[39m, \u001b[38;5;124m'\u001b[39m\u001b[38;5;124mPaint\u001b[39m\u001b[38;5;124m'\u001b[39m)\n",
            "\u001b[1;31merror\u001b[0m: OpenCV(4.9.0) D:\\a\\opencv-python\\opencv-python\\opencv\\modules\\highgui\\src\\window_w32.cpp:2561: error: (-27:Null pointer) NULL window: 'Paint' in function 'cvGetTrackbarPos'\n"
          ]
        }
      ],
      "source": [
        "image = np.ones((500,600,3), dtype=np.uint8) * 255\n",
        "white_board = image.copy()\n",
        "drawing = False\n",
        "ix, iy = 0, 0\n",
        "min_color = 0\n",
        "max_color = 255\n",
        "color = (0, 0, 0)\n",
        "min_size = 1\n",
        "max_size = 10\n",
        "brush_size = 3\n",
        "lines = []\n",
        "\n",
        "cv2.namedWindow(\"Paint\")\n",
        "cv2.createTrackbar('Size', 'Paint', min_size, max_size, nothing)\n",
        "cv2.createTrackbar('R', 'Paint', min_color, max_color, nothing)\n",
        "cv2.createTrackbar('G', 'Paint', min_color, max_color, nothing)\n",
        "cv2.createTrackbar('B', 'Paint', min_color, max_color, nothing)\n",
        "cv2.setMouseCallback(\"Paint\",draw)\n",
        "\n",
        "while True:\n",
        "    red = cv2.getTrackbarPos('R', 'Paint')\n",
        "    green = cv2.getTrackbarPos('G', 'Paint')\n",
        "    blue = cv2.getTrackbarPos('B', 'Paint')\n",
        "    brush_size = cv2.getTrackbarPos('Size', 'Paint')\n",
        "    color = (blue, green, red)\n",
        "    cv2.imshow(\"Paint\",image)\n",
        "    key = cv2.waitKey(20) & 0xFF\n",
        "    if key == 27:\n",
        "        break\n",
        "    elif key == ord(\"r\"):\n",
        "        image = white_board.copy()\n",
        "        lines.clear()\n",
        "    elif key == ord(\"z\"):\n",
        "        if lines:\n",
        "            image = white_board.copy()\n",
        "            lines.pop()\n",
        "            for line in lines:\n",
        "                for point in line:\n",
        "                    cv2.line(image, point[0], point[1], point[2], point[3])\n",
        "\n",
        "cv2.destroyAllWindows()\n",
        "plt.imshow(image[...,::-1])"
      ]
    },
    {
      "cell_type": "markdown",
      "id": "050aca2e",
      "metadata": {},
      "source": [
        "# Step 3: Store Image"
      ]
    },
    {
      "cell_type": "code",
      "execution_count": 12,
      "id": "1f06dddc",
      "metadata": {},
      "outputs": [
        {
          "data": {
            "text/plain": [
              "True"
            ]
          },
          "execution_count": 12,
          "metadata": {},
          "output_type": "execute_result"
        }
      ],
      "source": [
        "cv2.imwrite('Picture.jpg', image)"
      ]
    }
  ],
  "metadata": {
    "colab": {
      "provenance": []
    },
    "kernelspec": {
      "display_name": "Python 3",
      "language": "python",
      "name": "python3"
    },
    "language_info": {
      "codemirror_mode": {
        "name": "ipython",
        "version": 3
      },
      "file_extension": ".py",
      "mimetype": "text/x-python",
      "name": "python",
      "nbconvert_exporter": "python",
      "pygments_lexer": "ipython3",
      "version": "3.11.1"
    }
  },
  "nbformat": 4,
  "nbformat_minor": 5
}
